{
 "cells": [
  {
   "cell_type": "code",
   "execution_count": 23,
   "id": "tight-romance",
   "metadata": {},
   "outputs": [],
   "source": [
    "#P+(n²a/V²)*(V-nb)=nRT\n",
    "#P = nRT/V-nb - n²a/v²\n",
    "#He\n",
    "\n",
    "V = 0.2 #m³\n",
    "n = 0.3 #mol\n",
    "T = 246 #K\n",
    "#P = ?\n",
    "\n",
    "a = 0.003457\n",
    "b = 0.0000237\n"
   ]
  },
  {
   "cell_type": "code",
   "execution_count": 24,
   "id": "reliable-extraction",
   "metadata": {},
   "outputs": [],
   "source": [
    "def calc_p(V, n, T, a, b):\n",
    "    R = 8.31446 #J/(mol*K)\n",
    "    return ((n*R*T)/(V-n*b) - (a*((n/V)**2)))"
   ]
  },
  {
   "cell_type": "code",
   "execution_count": 25,
   "id": "joined-breed",
   "metadata": {},
   "outputs": [],
   "source": [
    "res = calc_p(V, n, T, a, b)"
   ]
  },
  {
   "cell_type": "code",
   "execution_count": 26,
   "id": "downtown-thanks",
   "metadata": {},
   "outputs": [
    {
     "name": "stdout",
     "output_type": "stream",
     "text": [
      "3068.14 Pa\n"
     ]
    }
   ],
   "source": [
    "print(\"%.2f\" % res + \" Pa\")"
   ]
  },
  {
   "cell_type": "code",
   "execution_count": 33,
   "id": "harmful-bulgaria",
   "metadata": {},
   "outputs": [],
   "source": [
    "list_t = []\n",
    "list_p = [] \n",
    "for t in range(T, T+50,1):\n",
    "    list_t.append(t)\n",
    "    list_p.append(calc_p(V, n, t, a, b))"
   ]
  },
  {
   "cell_type": "code",
   "execution_count": 34,
   "id": "elect-robertson",
   "metadata": {},
   "outputs": [],
   "source": [
    "import matplotlib.pyplot as plt "
   ]
  },
  {
   "cell_type": "code",
   "execution_count": 35,
   "id": "passing-speaker",
   "metadata": {},
   "outputs": [
    {
     "data": {
      "text/plain": [
       "<function matplotlib.pyplot.show(close=None, block=None)>"
      ]
     },
     "execution_count": 35,
     "metadata": {},
     "output_type": "execute_result"
    },
    {
     "data": {
      "image/png": "[encoded data removed]",
      "text/plain": [
       "<Figure size 432x288 with 1 Axes>"
      ]
     },
     "metadata": {
      "needs_background": "light"
     },
     "output_type": "display_data"
    }
   ],
   "source": [
    "plt.plot(list_t,list_p)\n",
    "plt.ylabel(\"Temp (k)\")\n",
    "plt.xlabel(\"Pres (Pa)\")\n",
    "plt.show"
   ]
  },
  {
   "cell_type": "code",
   "execution_count": null,
   "id": "internal-lancaster",
   "metadata": {},
   "outputs": [],
   "source": []
  }
 ],
 "metadata": {
  "kernelspec": {
   "display_name": "Python 3",
   "language": "python",
   "name": "python3"
  },
  "language_info": {
   "codemirror_mode": {
    "name": "ipython",
    "version": 3
   },
   "file_extension": ".py",
   "mimetype": "text/x-python",
   "name": "python",
   "nbconvert_exporter": "python",
   "pygments_lexer": "ipython3",
   "version": "3.7.9"
  }
 },
 "nbformat": 4,
 "nbformat_minor": 5
}
